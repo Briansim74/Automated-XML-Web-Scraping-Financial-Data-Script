{
  "nbformat": 4,
  "nbformat_minor": 0,
  "metadata": {
    "colab": {
      "provenance": []
    },
    "kernelspec": {
      "name": "python3",
      "display_name": "Python 3"
    },
    "language_info": {
      "name": "python"
    }
  },
  "cells": [
    {
      "cell_type": "code",
      "source": [
        "import pandas as pd\n",
        "import time\n",
        "import os\n",
        "import pyodbc\n",
        "from selenium import webdriver\n",
        "from selenium.webdriver.common.by import By\n",
        "from selenium.webdriver.common.action_chains import ActionChains\n",
        "from selenium.webdriver.common.keys import Keys"
      ],
      "metadata": {
        "id": "ItvtMHsdjbAT"
      },
      "execution_count": null,
      "outputs": []
    },
    {
      "cell_type": "code",
      "source": [
        "def web_driver():\n",
        "  options = webdriver.ChromeOptions()\n",
        "  options.add_argument(\"--verbose\")\n",
        "  options.add_argument(\"--no-sandbox\")\n",
        "  options.add_argument(\"--headless\")\n",
        "  options.add_argument(\"--disable-gpu\")\n",
        "  options.add_argument(\"--window-soze = 1920, 1200\")\n",
        "  options.add_argument(\"--disable-dev-shm-usage\")\n",
        "  driver = webdriver.Chrome(options = options)\n",
        "  return driver"
      ],
      "metadata": {
        "id": "e16bStdnjdCa"
      },
      "execution_count": null,
      "outputs": []
    },
    {
      "cell_type": "code",
      "source": [
        "driver = web_driver()"
      ],
      "metadata": {
        "id": "_-sfB2oUjemv"
      },
      "execution_count": null,
      "outputs": []
    },
    {
      "cell_type": "code",
      "source": [
        "url = \"https://www.ccilindia.com/web/ccil/security-wise-repo-market-summary\"\n",
        "\n",
        "# Open the webpage\n",
        "driver.get(url)\n",
        "\n",
        "# Wait for the page to load\n",
        "time.sleep(0.1)\n",
        "\n",
        "# create dataframe\n",
        "df = pd.DataFrame()\n",
        "\n",
        "# for each page in table\n",
        "i = 1\n",
        "\n",
        "#end page number\n",
        "end_page = int(driver.find_elements(By.XPATH, '//*[@id=\"securityWiseRepoTable_paginate\"]/span/a[6]')[0].text.splitlines()[0])\n",
        "\n",
        "while (i <= end_page):\n",
        "\n",
        "  #get list of rows of data\n",
        "  rows = driver.find_elements(By.XPATH, '//*[@id=\"securityWiseRepoTable\"]/tbody')[0].text.splitlines()\n",
        "\n",
        "  for row in rows:\n",
        "    #split first 2 elements in each row by space\n",
        "    first_two = row.split(' ', 2)\n",
        "    #split last 9 elements in each row by space\n",
        "    last_nine = first_two[2].rsplit(' ', 9)\n",
        "    #concat all elements into new row and add to df\n",
        "    adjusted_row = [first_two[0], first_two[1], last_nine[0], last_nine[1], last_nine[2], last_nine[3], last_nine[4], last_nine[5],\n",
        "                    last_nine[6], last_nine[7], last_nine[8], last_nine[9]]\n",
        "    df = pd.concat([df, pd.DataFrame([adjusted_row])],axis=0, ignore_index=True)\n",
        "\n",
        "\n",
        "  # get next button element\n",
        "  next = driver.find_element(By.XPATH, '//*[@id=\"securityWiseRepoTable_next\"]')\n",
        "  # create action chain object\n",
        "  action = ActionChains(driver)\n",
        "  # click the item\n",
        "  action.click(on_element = next)\n",
        "  # perform the operation\n",
        "  action.perform()\n",
        "  # waiting for next page in table to load\n",
        "  time.sleep(0.6)\n",
        "\n",
        "  #advance page\n",
        "  i += 1\n",
        "\n",
        "df.columns= ['Date', 'ISIN', 'Security Deposition', 'Maturity Date', 'Trades', 'Volume (Cr)', 'Open Yield', 'High Yield', 'Low Yield', 'Last Yield', 'Wtd Avg Yield', 'Wtd Avg Price']\n",
        "# Close the WebDriver\n",
        "driver.quit()"
      ],
      "metadata": {
        "id": "W2eBdfYyjg25"
      },
      "execution_count": null,
      "outputs": []
    },
    {
      "cell_type": "code",
      "source": [
        "#export csv file\n",
        "df.to_csv(r'/home/briansim74/Desktop/Security_Wise_Holdings.csv', index = False)"
      ],
      "metadata": {
        "id": "E6puy4Z2rE9-"
      },
      "execution_count": null,
      "outputs": []
    },
    {
      "cell_type": "code",
      "source": [
        "#connect to Azure SQL server using pyodbc\n",
        "server = 'sqldateserver.database.windows.net'\n",
        "database = 'SQLTest'\n",
        "username = 'briansim74'\n",
        "password = 'Shalom70!'\n",
        "cnxn = pyodbc.connect('DRIVER={ODBC Driver 17 for SQL Server};SERVER='+server+';DATABASE='+database+';UID='+username+';PWD='+ password)\n",
        "cursor = cnxn.cursor()\n",
        "\n",
        "#delete old data in SQL database\n",
        "\n",
        "#delete data in table\n",
        "cursor.execute('''TRUNCATE TABLE dbo.SECURITY_WISE_HOLDINGS''')\n",
        "\n",
        "#execute command\n",
        "cnxn.commit()"
      ],
      "metadata": {
        "id": "FALIpkXArEM3"
      },
      "execution_count": null,
      "outputs": []
    },
    {
      "cell_type": "code",
      "source": [
        "#BCP utility bulk insert updated CSV file into SQL server\n",
        "os.system('/opt/mssql-tools18/bin/bcp dbo.SECURITY_WISE_HOLDINGS in \"/home/briansim74/Desktop/Security_Wise_Holdings.csv\" -S sqldateserver.database.windows.net -d SQLTest -U briansim74 -P Shalom70! -c -F 2 -t \",\" -r \"0x0a\"')"
      ],
      "metadata": {
        "id": "UrYyh1ClrH6z"
      },
      "execution_count": null,
      "outputs": []
    },
    {
      "cell_type": "code",
      "source": [
        "#close cursor\n",
        "cursor.close()"
      ],
      "metadata": {
        "id": "oAMTaa-_Lai0"
      },
      "execution_count": null,
      "outputs": []
    }
  ]
}